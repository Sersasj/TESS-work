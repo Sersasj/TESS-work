{
 "cells": [
  {
   "cell_type": "code",
   "execution_count": 74,
   "metadata": {},
   "outputs": [],
   "source": [
    "import pandas as pd"
   ]
  },
  {
   "cell_type": "code",
   "execution_count": 75,
   "metadata": {},
   "outputs": [],
   "source": [
    "df = pd.read_csv(\"./dataset.csv\", delimiter=';')"
   ]
  },
  {
   "cell_type": "code",
   "execution_count": 76,
   "metadata": {},
   "outputs": [
    {
     "data": {
      "text/plain": [
       "array(['URL', 'Unnamed: 0', 'Identifier', '_id', 'FileInfo', 'NumAuthors',\n",
       "       'MonNauth', 'NumActiveMon', 'EarliestCommitDate',\n",
       "       'EarliestCommitDateConverted', 'NumBlobs', 'LatestCommitDate',\n",
       "       'LastCommitDateConverted', 'ProjectID', 'MonNcmt', 'NumCore',\n",
       "       'NumCommits', 'CommunitySize', 'NumFiles', 'Core', 'NumForks',\n",
       "       'n_microservices', 'Tot. Duration (Y)', 'Application Type',\n",
       "       'Application Purpose', 'Developed by', 'Archived',\n",
       "       'WIP/Incomplete', 'Is a Microservices?', 'num_services', 'servers',\n",
       "       'languages', 'num_langs', 'images', 'num_dbs', 'dbs',\n",
       "       'num_servers ', 'num_buses', 'buses', 'gates', 'monitors',\n",
       "       'num_discos', 'shared_dbs', 'num_dockers', 'dockers_raw',\n",
       "       'structure_raw', 'ms_depend_graph', 'avg_size_service',\n",
       "       'commit_hash'], dtype=object)"
      ]
     },
     "execution_count": 76,
     "metadata": {},
     "output_type": "execute_result"
    }
   ],
   "source": [
    "df.columns.values"
   ]
  },
  {
   "cell_type": "code",
   "execution_count": 77,
   "metadata": {},
   "outputs": [
    {
     "name": "stdout",
     "output_type": "stream",
     "text": [
      "18.5\n",
      "5.0\n",
      "11.0\n"
     ]
    }
   ],
   "source": [
    "mediana_num_authors = df['NumAuthors'].median()\n",
    "\n",
    "mediana_n_microservices = df['n_microservices'].median()\n",
    "\n",
    "mediana_community_size = df['CommunitySize'].median()\n",
    "\n",
    "print(mediana_num_authors)\n",
    "print(mediana_n_microservices)\n",
    "print(mediana_community_size)"
   ]
  },
  {
   "cell_type": "code",
   "execution_count": 78,
   "metadata": {},
   "outputs": [],
   "source": [
    "df_filtrado = df.where(\n",
    "    (df['NumAuthors'] > mediana_num_authors) &\n",
    "    (df['n_microservices'] > mediana_n_microservices) &\n",
    "    (df['CommunitySize'] > mediana_community_size) &\n",
    "    (df['Archived'] == 'No')\n",
    ")\n",
    "\n",
    "df_filtrado = df_filtrado.dropna(how='any')"
   ]
  }
 ],
 "metadata": {
  "kernelspec": {
   "display_name": "Python 3",
   "language": "python",
   "name": "python3"
  },
  "language_info": {
   "codemirror_mode": {
    "name": "ipython",
    "version": 3
   },
   "file_extension": ".py",
   "mimetype": "text/x-python",
   "name": "python",
   "nbconvert_exporter": "python",
   "pygments_lexer": "ipython3",
   "version": "3.12.5"
  }
 },
 "nbformat": 4,
 "nbformat_minor": 2
}
